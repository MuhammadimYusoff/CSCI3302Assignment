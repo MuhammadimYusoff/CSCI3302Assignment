{
 "cells": [
  {
   "attachments": {},
   "cell_type": "markdown",
   "metadata": {},
   "source": [
    "# Test Case 1\n",
    "Input: 5, 1, 2, 10, 6, 2\n"
   ]
  },
  {
   "cell_type": "code",
   "execution_count": null,
   "metadata": {},
   "outputs": [
    {
     "ename": "",
     "evalue": "",
     "output_type": "error",
     "traceback": [
      "\u001b[1;31mFailed to start the Kernel. \n",
      "\u001b[1;31mUnable to start Kernel 'Python 3.10.2' due to connection timeout. \n",
      "\u001b[1;31mView Jupyter <a href='command:jupyter.viewOutput'>log</a> for further details."
     ]
    }
   ],
   "source": [
    "def coins_row(coins, index):\n",
    "    if index == 0:\n",
    "        print(\"Any coins?\")\n",
    "    if index == 1:\n",
    "        return coins[0]\n",
    "    return max(coins_row(coins, index-1), coins_row(coins, index-2) + coins[index-1])\n",
    "\n",
    "coins = [5, 1, 2, 10, 6, 2]\n",
    "print(coins_row(coins, len(coins)))"
   ]
  },
  {
   "cell_type": "code",
   "execution_count": null,
   "metadata": {},
   "outputs": [],
   "source": [
    "def coin_row(coins, index):\n",
    "    if index == 0:\n",
    "        print(\"Any Coins?\")\n",
    "    if index == 1:\n",
    "        return coins[0]\n",
    "    return max(coin_row(coins, index - 1), coin_row(coins, index - 2) + coins[index - 1])\n",
    "\n",
    "coins = [7, 2, 1, 12, 5]\n",
    "print(coin_row(coins, len(coins)))"
   ]
  },
  {
   "attachments": {},
   "cell_type": "markdown",
   "metadata": {},
   "source": [
    "# Knapsack Problem"
   ]
  },
  {
   "cell_type": "code",
   "execution_count": null,
   "metadata": {},
   "outputs": [],
   "source": [
    "def knapSack(C, weight, value, n):\n",
    "    K = [[0 for x in range(C + 1)] for x in range(n + 1)]\n",
    "    # Build table K[][] in bottom up manner\n",
    "    for i in range(n + 1):\n",
    "        for w in range(C + 1):\n",
    "            if i == 0 or w == 0:\n",
    "                K[i][w] = 0\n",
    "            elif weight[i-1] <= w:\n",
    "                K[i][w] = max(value[i-1]\n",
    "                        + K[i-1][w-weight[i-1]],\n",
    "                                K[i-1][w])\n",
    "            else:\n",
    "                K[i][w] = K[i-1][w]\n",
    "    return K[n][C]"
   ]
  },
  {
   "cell_type": "code",
   "execution_count": null,
   "metadata": {},
   "outputs": [],
   "source": [
    "# Driver code\n",
    "value = [12, 10, 20, 15]\n",
    "weight = [2, 1, 3, 2]\n",
    "C = 5\n",
    "n = len(value)\n",
    "print(knapSack(C, weight, value, n))"
   ]
  }
 ],
 "metadata": {
  "kernelspec": {
   "display_name": "Python 3",
   "language": "python",
   "name": "python3"
  },
  "language_info": {
   "codemirror_mode": {
    "name": "ipython",
    "version": 3
   },
   "file_extension": ".py",
   "mimetype": "text/x-python",
   "name": "python",
   "nbconvert_exporter": "python",
   "pygments_lexer": "ipython3",
   "version": "3.10.2 (tags/v3.10.2:a58ebcc, Jan 17 2022, 14:12:15) [MSC v.1929 64 bit (AMD64)]"
  },
  "orig_nbformat": 4,
  "vscode": {
   "interpreter": {
    "hash": "26de051ba29f2982a8de78e945f0abaf191376122a1563185a90213a26c5da77"
   }
  }
 },
 "nbformat": 4,
 "nbformat_minor": 2
}
